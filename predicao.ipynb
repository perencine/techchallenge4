{
 "cells": [
  {
   "metadata": {},
   "cell_type": "markdown",
   "source": "# Função para predição do valor de fechamento ",
   "id": "bc5419e24e28d18f"
  },
  {
   "cell_type": "code",
   "id": "initial_id",
   "metadata": {
    "collapsed": true,
    "ExecuteTime": {
     "end_time": "2024-11-30T19:25:53.255842Z",
     "start_time": "2024-11-30T19:25:53.234275Z"
    }
   },
   "source": [
    "\"\"\"\n",
    "Exemplo de dados_entrada:\n",
    "dados_entrada = {\n",
    "    \"Date\": \"2024-11-27\",\n",
    "    \"Open\": 190.75,\n",
    "    \"High\": 195.10,\n",
    "    \"Low\": 189.50,\n",
    "    \"Volume\": 72000000\n",
    "}\n",
    "\"\"\"\n",
    "\n",
    "import torch\n",
    "import numpy as np\n",
    "import pandas as pd\n",
    "import torch.nn as nn\n",
    "\n",
    "\n",
    "hidden_size = 128\n",
    "num_layers = 2\n",
    "learning_rate = 0.005130547232547332,\n",
    "batch_size = 32\n",
    "num_epochs = 43\n",
    "\n",
    "\n",
    "class LSTM(nn.Module):\n",
    "    def __init__(self, input_size, hidden_size, num_layers, output_size):\n",
    "        super().__init__()\n",
    "        self.hidden_size = hidden_size\n",
    "        self.num_layers = num_layers\n",
    "        self.lstm1 = nn.LSTM(input_size, hidden_size, num_layers, batch_first=True)\n",
    "        self.fc1 = nn.Linear(hidden_size, output_size)\n",
    "        self.lstm2 = nn.LSTM(input_size, hidden_size, num_layers, batch_first=True)\n",
    "        self.fc2 = nn.Linear(hidden_size, output_size)\n",
    "\n",
    "    def forward(self, x):\n",
    "        h0 = torch.zeros(self.num_layers, x.size(0), self.hidden_size).to(device)\n",
    "        c0 = torch.zeros(self.num_layers, x.size(0), self.hidden_size).to(device)\n",
    "        \n",
    "        # Forward propagate LSTM\n",
    "        out, _ = self.lstm1(x, (h0, c0))\n",
    "        out = self.fc1(out[:, -1, :])\n",
    "        out, _ = self.lstm2(x, (h0, c0))\n",
    "        out = self.fc2(out[:, -1, :])\n",
    "        return out\n",
    "    \n",
    "    \n",
    "def valor_fechamento(dados_entrada):\n",
    "    \n",
    "    device = torch.device(\"cuda\" if torch.cuda.is_available() else \"cpu\")\n",
    "    model = LSTM(11, hidden_size, num_layers, 1).to(device)\n",
    "    model.load_state_dict(torch.load('modelo_aapl_lstm.pth'))\n",
    "    model.eval()\n",
    "    scaler = torch.load('scaler.pkl')\n",
    "    \n",
    "    # estabelecimento de DF com os dados de entrada, normalização e criação das features extras\n",
    "    df = pd.DataFrame([dados_entrada])\n",
    "    df['Date'] = pd.to_datetime(df['Date'])\n",
    "    df['Weekday'] = df['Date'].dt.weekday\n",
    "    df['Month'] = df['Date'].dt.month\n",
    "    df['Year'] = df['Date'].dt.year\n",
    "    df['day_sin'] = np.sin(2 * np.pi * df['Date'].dt.dayofyear / 365)\n",
    "    df['day_cos'] = np.cos(2 * np.pi * df['Date'].dt.dayofyear / 365)\n",
    "    cols_norm = ['Open', 'High', 'Low', 'Volume', 'Weekday', 'Month', 'Year']\n",
    "    dados_normalizados = df[cols_norm + ['day_sin', 'day_cos']].copy()\n",
    "    dados_normalizados[cols_norm] = scaler.transform(dados_normalizados[cols_norm])\n",
    "    \n",
    "    # predição de Close\n",
    "    X = torch.tensor(dados_normalizados.values, dtype=torch.float32).unsqueeze(0).to(device)\n",
    "    with torch.no_grad():\n",
    "        predicao_normalizada = model(X).item()\n",
    "    \n",
    "    # desnormalizar o valor de Close\n",
    "    min_close, max_close = scaler.data_min_[3], scaler.data_max_[3]  # 'Closer' é o índice 3\n",
    "    predicao_real = predicao_normalizada * (max_close - min_close) + min_close\n",
    "    \n",
    "    print(f\"Valor previsto de 'Close': {predicao_real:.2f}\")\n",
    "    return predicao_real\n"
   ],
   "outputs": [],
   "execution_count": 4
  },
  {
   "metadata": {},
   "cell_type": "markdown",
   "source": "### Teste",
   "id": "73dfd3fe4bb1b53"
  },
  {
   "metadata": {
    "ExecuteTime": {
     "end_time": "2024-11-30T19:25:56.093779Z",
     "start_time": "2024-11-30T19:25:55.805926Z"
    }
   },
   "cell_type": "code",
   "source": [
    "dados_entrada = {\n",
    "    \"Date\": \"2024-11-27\",\n",
    "    \"Open\": 190.75,\n",
    "    \"High\": 195.10,\n",
    "    \"Low\": 189.50,\n",
    "    \"Volume\": 72000000\n",
    "}\n",
    "valor_fechamento(dados_entrada)\n"
   ],
   "id": "fddb26de71938fe3",
   "outputs": [
    {
     "name": "stderr",
     "output_type": "stream",
     "text": [
      "C:\\Users\\vitor\\AppData\\Local\\Temp\\ipykernel_11212\\2878759728.py:51: FutureWarning: You are using `torch.load` with `weights_only=False` (the current default value), which uses the default pickle module implicitly. It is possible to construct malicious pickle data which will execute arbitrary code during unpickling (See https://github.com/pytorch/pytorch/blob/main/SECURITY.md#untrusted-models for more details). In a future release, the default value for `weights_only` will be flipped to `True`. This limits the functions that could be executed during unpickling. Arbitrary objects will no longer be allowed to be loaded via this mode unless they are explicitly allowlisted by the user via `torch.serialization.add_safe_globals`. We recommend you start setting `weights_only=True` for any use case where you don't have full control of the loaded file. Please open an issue on GitHub for any issues related to this experimental feature.\n",
      "  model.load_state_dict(torch.load('modelo_aapl_lstm.pth'))\n"
     ]
    },
    {
     "ename": "RuntimeError",
     "evalue": "Error(s) in loading state_dict for LSTM:\n\tsize mismatch for lstm1.weight_ih_l0: copying a param with shape torch.Size([512, 9]) from checkpoint, the shape in current model is torch.Size([512, 11]).\n\tsize mismatch for lstm2.weight_ih_l0: copying a param with shape torch.Size([512, 9]) from checkpoint, the shape in current model is torch.Size([512, 11]).",
     "output_type": "error",
     "traceback": [
      "\u001B[1;31m---------------------------------------------------------------------------\u001B[0m",
      "\u001B[1;31mRuntimeError\u001B[0m                              Traceback (most recent call last)",
      "Cell \u001B[1;32mIn[5], line 8\u001B[0m\n\u001B[0;32m      1\u001B[0m dados_entrada \u001B[38;5;241m=\u001B[39m {\n\u001B[0;32m      2\u001B[0m     \u001B[38;5;124m\"\u001B[39m\u001B[38;5;124mDate\u001B[39m\u001B[38;5;124m\"\u001B[39m: \u001B[38;5;124m\"\u001B[39m\u001B[38;5;124m2024-11-27\u001B[39m\u001B[38;5;124m\"\u001B[39m,\n\u001B[0;32m      3\u001B[0m     \u001B[38;5;124m\"\u001B[39m\u001B[38;5;124mOpen\u001B[39m\u001B[38;5;124m\"\u001B[39m: \u001B[38;5;241m190.75\u001B[39m,\n\u001B[1;32m   (...)\u001B[0m\n\u001B[0;32m      6\u001B[0m     \u001B[38;5;124m\"\u001B[39m\u001B[38;5;124mVolume\u001B[39m\u001B[38;5;124m\"\u001B[39m: \u001B[38;5;241m72000000\u001B[39m\n\u001B[0;32m      7\u001B[0m }\n\u001B[1;32m----> 8\u001B[0m \u001B[43mvalor_fechamento\u001B[49m\u001B[43m(\u001B[49m\u001B[43mdados_entrada\u001B[49m\u001B[43m)\u001B[49m\n",
      "Cell \u001B[1;32mIn[4], line 51\u001B[0m, in \u001B[0;36mvalor_fechamento\u001B[1;34m(dados_entrada)\u001B[0m\n\u001B[0;32m     49\u001B[0m device \u001B[38;5;241m=\u001B[39m torch\u001B[38;5;241m.\u001B[39mdevice(\u001B[38;5;124m\"\u001B[39m\u001B[38;5;124mcuda\u001B[39m\u001B[38;5;124m\"\u001B[39m \u001B[38;5;28;01mif\u001B[39;00m torch\u001B[38;5;241m.\u001B[39mcuda\u001B[38;5;241m.\u001B[39mis_available() \u001B[38;5;28;01melse\u001B[39;00m \u001B[38;5;124m\"\u001B[39m\u001B[38;5;124mcpu\u001B[39m\u001B[38;5;124m\"\u001B[39m)\n\u001B[0;32m     50\u001B[0m model \u001B[38;5;241m=\u001B[39m LSTM(\u001B[38;5;241m11\u001B[39m, hidden_size, num_layers, \u001B[38;5;241m1\u001B[39m)\u001B[38;5;241m.\u001B[39mto(device)\n\u001B[1;32m---> 51\u001B[0m \u001B[43mmodel\u001B[49m\u001B[38;5;241;43m.\u001B[39;49m\u001B[43mload_state_dict\u001B[49m\u001B[43m(\u001B[49m\u001B[43mtorch\u001B[49m\u001B[38;5;241;43m.\u001B[39;49m\u001B[43mload\u001B[49m\u001B[43m(\u001B[49m\u001B[38;5;124;43m'\u001B[39;49m\u001B[38;5;124;43mmodelo_aapl_lstm.pth\u001B[39;49m\u001B[38;5;124;43m'\u001B[39;49m\u001B[43m)\u001B[49m\u001B[43m)\u001B[49m\n\u001B[0;32m     52\u001B[0m model\u001B[38;5;241m.\u001B[39meval()\n\u001B[0;32m     53\u001B[0m scaler \u001B[38;5;241m=\u001B[39m torch\u001B[38;5;241m.\u001B[39mload(\u001B[38;5;124m'\u001B[39m\u001B[38;5;124mscaler.pkl\u001B[39m\u001B[38;5;124m'\u001B[39m)\n",
      "File \u001B[1;32m~\\Desktop\\py_projects\\deep_learning\\venv\\Lib\\site-packages\\torch\\nn\\modules\\module.py:2584\u001B[0m, in \u001B[0;36mModule.load_state_dict\u001B[1;34m(self, state_dict, strict, assign)\u001B[0m\n\u001B[0;32m   2576\u001B[0m         error_msgs\u001B[38;5;241m.\u001B[39minsert(\n\u001B[0;32m   2577\u001B[0m             \u001B[38;5;241m0\u001B[39m,\n\u001B[0;32m   2578\u001B[0m             \u001B[38;5;124m\"\u001B[39m\u001B[38;5;124mMissing key(s) in state_dict: \u001B[39m\u001B[38;5;132;01m{}\u001B[39;00m\u001B[38;5;124m. \u001B[39m\u001B[38;5;124m\"\u001B[39m\u001B[38;5;241m.\u001B[39mformat(\n\u001B[0;32m   2579\u001B[0m                 \u001B[38;5;124m\"\u001B[39m\u001B[38;5;124m, \u001B[39m\u001B[38;5;124m\"\u001B[39m\u001B[38;5;241m.\u001B[39mjoin(\u001B[38;5;124mf\u001B[39m\u001B[38;5;124m'\u001B[39m\u001B[38;5;124m\"\u001B[39m\u001B[38;5;132;01m{\u001B[39;00mk\u001B[38;5;132;01m}\u001B[39;00m\u001B[38;5;124m\"\u001B[39m\u001B[38;5;124m'\u001B[39m \u001B[38;5;28;01mfor\u001B[39;00m k \u001B[38;5;129;01min\u001B[39;00m missing_keys)\n\u001B[0;32m   2580\u001B[0m             ),\n\u001B[0;32m   2581\u001B[0m         )\n\u001B[0;32m   2583\u001B[0m \u001B[38;5;28;01mif\u001B[39;00m \u001B[38;5;28mlen\u001B[39m(error_msgs) \u001B[38;5;241m>\u001B[39m \u001B[38;5;241m0\u001B[39m:\n\u001B[1;32m-> 2584\u001B[0m     \u001B[38;5;28;01mraise\u001B[39;00m \u001B[38;5;167;01mRuntimeError\u001B[39;00m(\n\u001B[0;32m   2585\u001B[0m         \u001B[38;5;124m\"\u001B[39m\u001B[38;5;124mError(s) in loading state_dict for \u001B[39m\u001B[38;5;132;01m{}\u001B[39;00m\u001B[38;5;124m:\u001B[39m\u001B[38;5;130;01m\\n\u001B[39;00m\u001B[38;5;130;01m\\t\u001B[39;00m\u001B[38;5;132;01m{}\u001B[39;00m\u001B[38;5;124m\"\u001B[39m\u001B[38;5;241m.\u001B[39mformat(\n\u001B[0;32m   2586\u001B[0m             \u001B[38;5;28mself\u001B[39m\u001B[38;5;241m.\u001B[39m\u001B[38;5;18m__class__\u001B[39m\u001B[38;5;241m.\u001B[39m\u001B[38;5;18m__name__\u001B[39m, \u001B[38;5;124m\"\u001B[39m\u001B[38;5;130;01m\\n\u001B[39;00m\u001B[38;5;130;01m\\t\u001B[39;00m\u001B[38;5;124m\"\u001B[39m\u001B[38;5;241m.\u001B[39mjoin(error_msgs)\n\u001B[0;32m   2587\u001B[0m         )\n\u001B[0;32m   2588\u001B[0m     )\n\u001B[0;32m   2589\u001B[0m \u001B[38;5;28;01mreturn\u001B[39;00m _IncompatibleKeys(missing_keys, unexpected_keys)\n",
      "\u001B[1;31mRuntimeError\u001B[0m: Error(s) in loading state_dict for LSTM:\n\tsize mismatch for lstm1.weight_ih_l0: copying a param with shape torch.Size([512, 9]) from checkpoint, the shape in current model is torch.Size([512, 11]).\n\tsize mismatch for lstm2.weight_ih_l0: copying a param with shape torch.Size([512, 9]) from checkpoint, the shape in current model is torch.Size([512, 11])."
     ]
    }
   ],
   "execution_count": 5
  }
 ],
 "metadata": {
  "kernelspec": {
   "display_name": "Python 3",
   "language": "python",
   "name": "python3"
  },
  "language_info": {
   "codemirror_mode": {
    "name": "ipython",
    "version": 2
   },
   "file_extension": ".py",
   "mimetype": "text/x-python",
   "name": "python",
   "nbconvert_exporter": "python",
   "pygments_lexer": "ipython2",
   "version": "2.7.6"
  }
 },
 "nbformat": 4,
 "nbformat_minor": 5
}
