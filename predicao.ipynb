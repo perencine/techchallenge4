{
 "cells": [
  {
   "metadata": {},
   "cell_type": "markdown",
   "source": "# Função para predição do valor de fechamento ",
   "id": "bc5419e24e28d18f"
  },
  {
   "cell_type": "code",
   "id": "initial_id",
   "metadata": {
    "collapsed": true,
    "ExecuteTime": {
     "end_time": "2024-12-02T12:21:40.452392Z",
     "start_time": "2024-12-02T12:21:40.426411Z"
    }
   },
   "source": [
    "\"\"\"\n",
    "Exemplo de dados_entrada:\n",
    "dados_entrada = {\n",
    "    \"Date\": \"2024-11-27\",\n",
    "    \"Open\": 190.75,\n",
    "    \"High\": 195.10,\n",
    "    \"Low\": 189.50,\n",
    "    \"Volume\": 72000000\n",
    "}\n",
    "\"\"\"\n",
    "\n",
    "import torch\n",
    "import numpy as np\n",
    "import pandas as pd\n",
    "import torch.nn as nn\n",
    "import pickle, joblib\n",
    "\n",
    "modelo_hiperp = torch.load('modelo_aapl_lstm.pth', weights_only=False)\n",
    "modelo = modelo_hiperp['model_state_dict']\n",
    "hiperp = modelo_hiperp['hyperparameters']\n",
    "print(hiperp)\n",
    "\n",
    "input_size = hiperp['input_size']\n",
    "hidden_size = hiperp['hidden_size']\n",
    "num_layers = hiperp['num_layers']\n",
    "learning_rate = hiperp['learning_rate']\n",
    "batch_size = hiperp['batch_size']\n",
    "num_epochs = hiperp['num_epochs']\n",
    "output_size = hiperp['output_size']\n",
    "device = torch.device(\"cuda\" if torch.cuda.is_available() else \"cpu\")\n",
    "\n",
    "\n",
    "class LSTM(nn.Module):\n",
    "    def __init__(self, input_size, hidden_size, num_layers, output_size):\n",
    "        super().__init__()\n",
    "        self.hidden_size = hidden_size\n",
    "        self.num_layers = num_layers\n",
    "        self.lstm1 = nn.LSTM(input_size, hidden_size, num_layers, batch_first=True)\n",
    "        self.fc1 = nn.Linear(hidden_size, output_size)\n",
    "        self.lstm2 = nn.LSTM(input_size, hidden_size, num_layers, batch_first=True)\n",
    "        self.fc2 = nn.Linear(hidden_size, output_size)\n",
    "\n",
    "    def forward(self, x):\n",
    "        h0 = torch.zeros(self.num_layers, x.size(0), self.hidden_size).to(device)\n",
    "        c0 = torch.zeros(self.num_layers, x.size(0), self.hidden_size).to(device)\n",
    "        \n",
    "        # Forward propagate LSTM\n",
    "        out, _ = self.lstm1(x, (h0, c0))\n",
    "        out = self.fc1(out[:, -1, :])\n",
    "        out, _ = self.lstm2(x, (h0, c0))\n",
    "        out = self.fc2(out[:, -1, :])\n",
    "        return out\n",
    "    \n",
    "    \n",
    "def valor_fechamento(dados_entrada):\n",
    "    \n",
    "    model = LSTM(input_size, hidden_size, num_layers, output_size).to(device)\n",
    "    model.load_state_dict(modelo)\n",
    "    model.eval()\n",
    "    scaler = joblib.load('scaler.pkl')\n",
    "\n",
    "    \n",
    "    # estabelecimento de DF com os dados de entrada, normalização e criação das features extras\n",
    "    df = pd.DataFrame([dados_entrada])\n",
    "    df['Date'] = pd.to_datetime(df['Date'])\n",
    "    df['Weekday'] = df['Date'].dt.weekday\n",
    "    df['Month'] = df['Date'].dt.month\n",
    "    df['Year'] = df['Date'].dt.year\n",
    "    df['day_sin'] = np.sin(2 * np.pi * df['Date'].dt.dayofyear / 365)\n",
    "    df['day_cos'] = np.cos(2 * np.pi * df['Date'].dt.dayofyear / 365)\n",
    "    df['Close'] = 0  # necessário para normalizar os dados\n",
    "    \n",
    "    cols_norm = ['Open', 'High', 'Low', 'Close', 'Volume', 'Weekday', 'Month', 'Year']\n",
    "    df_norm = df[cols_norm + ['day_sin', 'day_cos']].copy()\n",
    "    df_norm[cols_norm] = scaler.transform(df_norm[cols_norm])\n",
    "    df_norm = df_norm.drop('Close', axis=1).copy()\n",
    "    \n",
    "    # predição de Close\n",
    "    X = torch.tensor(df_norm.values, dtype=torch.float32).unsqueeze(0).to(device)\n",
    "    with torch.no_grad():\n",
    "        df_norm['Close'] = float(model(X).item())\n",
    "    \n",
    "    # desnormalizar o valor de Close\n",
    "    # min_close, max_close = scaler.data_min_[3], scaler.data_max_[3]  # 'Close' é o índice 3\n",
    "    # predicao_real = predicao_normalizada * (max_close - min_close) + min_close\n",
    "    df_norm2 = scaler.inverse_transform(df_norm[cols_norm].copy())  # acertar a ordem das colunas e desnormalizar\n",
    "    \n",
    "    return round(df_norm2[0][3], 4)\n"
   ],
   "outputs": [
    {
     "name": "stdout",
     "output_type": "stream",
     "text": [
      "{'input_size': 9, 'hidden_size': 64, 'num_layers': 1, 'num_epochs': 46, 'batch_size': 128, 'output_size': 1, 'learning_rate': 0.00864523171136962}\n"
     ]
    }
   ],
   "execution_count": 61
  },
  {
   "metadata": {},
   "cell_type": "markdown",
   "source": "### Teste",
   "id": "73dfd3fe4bb1b53"
  },
  {
   "metadata": {
    "ExecuteTime": {
     "end_time": "2024-12-02T12:21:42.336051Z",
     "start_time": "2024-12-02T12:21:42.308120Z"
    }
   },
   "cell_type": "code",
   "source": [
    "dados_entrada = {\n",
    "    \"Date\": \"2024-01-02\",\n",
    "    \"Open\": 187.149994,\n",
    "    \"High\": 188.440002,\n",
    "    \"Low\": 183.889999,\n",
    "    \"Volume\": 82488700\n",
    "}\n",
    "vlr = valor_fechamento(dados_entrada)\n",
    "\n",
    "print(f'Valor previsto de fechamento: {round(vlr, 2)}')\n"
   ],
   "id": "fddb26de71938fe3",
   "outputs": [
    {
     "name": "stdout",
     "output_type": "stream",
     "text": [
      "Valor previsto de fechamento: 165.61\n"
     ]
    }
   ],
   "execution_count": 62
  },
  {
   "metadata": {},
   "cell_type": "markdown",
   "source": "#### Comparação com informações reais",
   "id": "e2adc71cf477c4b1"
  },
  {
   "metadata": {
    "ExecuteTime": {
     "end_time": "2024-12-02T12:21:56.932255Z",
     "start_time": "2024-12-02T12:21:54.444185Z"
    }
   },
   "cell_type": "code",
   "source": [
    "from base_historica.base_historica_AAPL import download_base\n",
    "download_base('AAPL', \"2024-01-02\", \"2024-01-03\", 'base_teste.csv')\n",
    "df_teste = pd.read_csv('base_teste.csv')\n",
    "df_teste.head()"
   ],
   "id": "570a49a2f8614409",
   "outputs": [
    {
     "name": "stderr",
     "output_type": "stream",
     "text": [
      "[*********************100%***********************]  1 of 1 completed\n",
      "[*********************100%***********************]  1 of 1 completed\n"
     ]
    },
    {
     "data": {
      "text/plain": [
       "         Date        Open        High         Low       Close   Adj Close  \\\n",
       "0  2024-01-02  187.149994  188.440002  183.889999  185.639999  184.734985   \n",
       "\n",
       "     Volume  \n",
       "0  82488700  "
      ],
      "text/html": [
       "<div>\n",
       "<style scoped>\n",
       "    .dataframe tbody tr th:only-of-type {\n",
       "        vertical-align: middle;\n",
       "    }\n",
       "\n",
       "    .dataframe tbody tr th {\n",
       "        vertical-align: top;\n",
       "    }\n",
       "\n",
       "    .dataframe thead th {\n",
       "        text-align: right;\n",
       "    }\n",
       "</style>\n",
       "<table border=\"1\" class=\"dataframe\">\n",
       "  <thead>\n",
       "    <tr style=\"text-align: right;\">\n",
       "      <th></th>\n",
       "      <th>Date</th>\n",
       "      <th>Open</th>\n",
       "      <th>High</th>\n",
       "      <th>Low</th>\n",
       "      <th>Close</th>\n",
       "      <th>Adj Close</th>\n",
       "      <th>Volume</th>\n",
       "    </tr>\n",
       "  </thead>\n",
       "  <tbody>\n",
       "    <tr>\n",
       "      <th>0</th>\n",
       "      <td>2024-01-02</td>\n",
       "      <td>187.149994</td>\n",
       "      <td>188.440002</td>\n",
       "      <td>183.889999</td>\n",
       "      <td>185.639999</td>\n",
       "      <td>184.734985</td>\n",
       "      <td>82488700</td>\n",
       "    </tr>\n",
       "  </tbody>\n",
       "</table>\n",
       "</div>"
      ]
     },
     "execution_count": 63,
     "metadata": {},
     "output_type": "execute_result"
    }
   ],
   "execution_count": 63
  }
 ],
 "metadata": {
  "kernelspec": {
   "display_name": "Python 3",
   "language": "python",
   "name": "python3"
  },
  "language_info": {
   "codemirror_mode": {
    "name": "ipython",
    "version": 2
   },
   "file_extension": ".py",
   "mimetype": "text/x-python",
   "name": "python",
   "nbconvert_exporter": "python",
   "pygments_lexer": "ipython2",
   "version": "2.7.6"
  }
 },
 "nbformat": 4,
 "nbformat_minor": 5
}
